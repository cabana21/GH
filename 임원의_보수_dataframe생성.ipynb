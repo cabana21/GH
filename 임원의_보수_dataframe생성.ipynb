{
  "nbformat": 4,
  "nbformat_minor": 0,
  "metadata": {
    "colab": {
      "name": "임원의 보수 dataframe생성.ipynb",
      "provenance": [],
      "collapsed_sections": []
    },
    "kernelspec": {
      "name": "python3",
      "display_name": "Python 3"
    }
  },
  "cells": [
    {
      "cell_type": "code",
      "metadata": {
        "id": "nhxe58q55Ikz",
        "colab_type": "code",
        "colab": {}
      },
      "source": [
        "import pandas as pd\n",
        "import requests\n",
        "from urllib.request import urlopen\n",
        "from bs4 import BeautifulSoup"
      ],
      "execution_count": 0,
      "outputs": []
    },
    {
      "cell_type": "code",
      "metadata": {
        "id": "XREdrlIORuX-",
        "colab_type": "code",
        "colab": {}
      },
      "source": [
        "def get_executives_return_page(url): #사업보고서 주소를 넣으면 '임원의 보수 등' 주소 반환\n",
        "    try:\n",
        "        req2 = requests.get(url)\n",
        "        html2 = req2.text\n",
        "        soup2 = BeautifulSoup(html2, 'html.parser')\n",
        "        body = str(soup2.find('head'))\n",
        "\n",
        "        a = re.search('임원의 보수 등',body).span()\n",
        "        b= re.search(r'viewDoc(.*);',body[a[0]:]).group()\n",
        "        ls = b[8:-2].split(',')\n",
        "        ls = [i[1:-1] for i in ls]\n",
        "        ls[1] = ls[1][1:] #드러움\n",
        "        ls[2] = ls[2][1:]\n",
        "        ls[3] = ls[3][1:]\n",
        "        ls[4] = ls[4][1:]\n",
        "        ls[5] = ls[5][1:]    \n",
        "        \n",
        "        url_final = 'http://dart.fss.or.kr/report/viewer.do?rcpNo='+ ls[0] + '&dcmNo='+ ls[1]+'&eleId=' +ls[2] + '&offset=' + ls[3] + '&length=' + ls[4] + '&dtd=dart3.xsd'\n",
        "        return(url_final)\n",
        "    \n",
        "    except AttributeError as e:\n",
        "        print(e)"
      ],
      "execution_count": 0,
      "outputs": []
    },
    {
      "cell_type": "code",
      "metadata": {
        "id": "zYdrnk4M5L5I",
        "colab_type": "code",
        "colab": {}
      },
      "source": [
        "url = 'http://dart.fss.or.kr/dsaf001/main.do?rcpNo=20200330003851' #사업보고서 url (삼성전자2019)\n",
        "return_url = get_executives_return_page(url) #사업보고서 중 '임원의 보수 등' 페이지 url "
      ],
      "execution_count": 0,
      "outputs": []
    },
    {
      "cell_type": "code",
      "metadata": {
        "id": "XR071odcRqbl",
        "colab_type": "code",
        "colab": {}
      },
      "source": [
        "report = urlopen(return_url) #전체 html중 table에는 거의 '단위'가 붙기 때문에 표를 가져오기위해\n",
        "r= report.read()\n",
        "xmlsoup = BeautifulSoup(r,'html.parser')\n",
        "body = xmlsoup.find(\"body\")\n",
        "body2 = BeautifulSoup(str(body).split('(단위')[1])"
      ],
      "execution_count": 0,
      "outputs": []
    },
    {
      "cell_type": "code",
      "metadata": {
        "id": "yYrAUgHu5m2b",
        "colab_type": "code",
        "colab": {}
      },
      "source": [
        "raw_tables = []\n",
        "tables = [] #tables 리스트에 도표 저장\n",
        "for i in range(1,15):\n",
        "  raw_tables.append(BeautifulSoup(str(body).split('(단위')[i]))\n",
        "for j in raw_tables:\n",
        "  tables.append(pd.read_html(str(j))[0])"
      ],
      "execution_count": 0,
      "outputs": []
    },
    {
      "cell_type": "code",
      "metadata": {
        "id": "iXNSwNiDXWl9",
        "colab_type": "code",
        "colab": {
          "base_uri": "https://localhost:8080/",
          "height": 171
        },
        "outputId": "9016fa1e-4ce3-446e-c483-f01f5dce4f09"
      },
      "source": [
        "tables[0]"
      ],
      "execution_count": 98,
      "outputs": [
        {
          "output_type": "execute_result",
          "data": {
            "text/html": [
              "<div>\n",
              "<style scoped>\n",
              "    .dataframe tbody tr th:only-of-type {\n",
              "        vertical-align: middle;\n",
              "    }\n",
              "\n",
              "    .dataframe tbody tr th {\n",
              "        vertical-align: top;\n",
              "    }\n",
              "\n",
              "    .dataframe thead th {\n",
              "        text-align: right;\n",
              "    }\n",
              "</style>\n",
              "<table border=\"1\" class=\"dataframe\">\n",
              "  <thead>\n",
              "    <tr style=\"text-align: right;\">\n",
              "      <th></th>\n",
              "      <th>구 분</th>\n",
              "      <th>인원수</th>\n",
              "      <th>주주총회 승인금액</th>\n",
              "      <th>비고</th>\n",
              "    </tr>\n",
              "  </thead>\n",
              "  <tbody>\n",
              "    <tr>\n",
              "      <th>0</th>\n",
              "      <td>등기이사</td>\n",
              "      <td>5</td>\n",
              "      <td>-</td>\n",
              "      <td>-</td>\n",
              "    </tr>\n",
              "    <tr>\n",
              "      <th>1</th>\n",
              "      <td>사외이사</td>\n",
              "      <td>3</td>\n",
              "      <td>-</td>\n",
              "      <td>-</td>\n",
              "    </tr>\n",
              "    <tr>\n",
              "      <th>2</th>\n",
              "      <td>감사위원회 위원 또는 감사</td>\n",
              "      <td>3</td>\n",
              "      <td>-</td>\n",
              "      <td>-</td>\n",
              "    </tr>\n",
              "    <tr>\n",
              "      <th>3</th>\n",
              "      <td>계</td>\n",
              "      <td>11</td>\n",
              "      <td>46500</td>\n",
              "      <td>-</td>\n",
              "    </tr>\n",
              "  </tbody>\n",
              "</table>\n",
              "</div>"
            ],
            "text/plain": [
              "              구 분  인원수 주주총회 승인금액 비고\n",
              "0            등기이사    5         -  -\n",
              "1            사외이사    3         -  -\n",
              "2  감사위원회 위원 또는 감사    3         -  -\n",
              "3               계   11     46500  -"
            ]
          },
          "metadata": {
            "tags": []
          },
          "execution_count": 98
        }
      ]
    },
    {
      "cell_type": "code",
      "metadata": {
        "id": "uaYNPLKSXXqu",
        "colab_type": "code",
        "colab": {
          "base_uri": "https://localhost:8080/",
          "height": 233
        },
        "outputId": "c01dbe84-87da-43c3-e884-7446495fa3de"
      },
      "source": [
        "tables[9]"
      ],
      "execution_count": 99,
      "outputs": [
        {
          "output_type": "execute_result",
          "data": {
            "text/html": [
              "<div>\n",
              "<style scoped>\n",
              "    .dataframe tbody tr th:only-of-type {\n",
              "        vertical-align: middle;\n",
              "    }\n",
              "\n",
              "    .dataframe tbody tr th {\n",
              "        vertical-align: top;\n",
              "    }\n",
              "\n",
              "    .dataframe thead th {\n",
              "        text-align: right;\n",
              "    }\n",
              "</style>\n",
              "<table border=\"1\" class=\"dataframe\">\n",
              "  <thead>\n",
              "    <tr style=\"text-align: right;\">\n",
              "      <th></th>\n",
              "      <th>이름</th>\n",
              "      <th>보수의 종류</th>\n",
              "      <th>보수의 종류.1</th>\n",
              "      <th>총액</th>\n",
              "      <th>산정기준 및 방법</th>\n",
              "    </tr>\n",
              "  </thead>\n",
              "  <tbody>\n",
              "    <tr>\n",
              "      <th>0</th>\n",
              "      <td>권오현</td>\n",
              "      <td>근로소득</td>\n",
              "      <td>급여</td>\n",
              "      <td>1249</td>\n",
              "      <td>ㆍ임원처우규정(이사회 결의)에 따라 직급(회장), 위임업무의 성격, 위임업무 수행 ...</td>\n",
              "    </tr>\n",
              "    <tr>\n",
              "      <th>1</th>\n",
              "      <td>권오현</td>\n",
              "      <td>근로소득</td>\n",
              "      <td>상여</td>\n",
              "      <td>3269</td>\n",
              "      <td>ㆍ설ㆍ추석상여: 각 월급여 100% 지급ㆍ목표인센티브: 부서별 목표 달성도에 따라 ...</td>\n",
              "    </tr>\n",
              "    <tr>\n",
              "      <th>2</th>\n",
              "      <td>권오현</td>\n",
              "      <td>근로소득</td>\n",
              "      <td>주식매수선택권 행사이익</td>\n",
              "      <td>-</td>\n",
              "      <td>ㆍ해당사항 없음</td>\n",
              "    </tr>\n",
              "    <tr>\n",
              "      <th>3</th>\n",
              "      <td>권오현</td>\n",
              "      <td>근로소득</td>\n",
              "      <td>기타 근로소득</td>\n",
              "      <td>119</td>\n",
              "      <td>ㆍ복리후생: 임원처우규정(이사회 결의)에 따라 임원 의료지원ㆍ건강검진, 차량지원, ...</td>\n",
              "    </tr>\n",
              "    <tr>\n",
              "      <th>4</th>\n",
              "      <td>권오현</td>\n",
              "      <td>퇴직소득</td>\n",
              "      <td>퇴직소득</td>\n",
              "      <td>-</td>\n",
              "      <td>ㆍ해당사항 없음</td>\n",
              "    </tr>\n",
              "    <tr>\n",
              "      <th>5</th>\n",
              "      <td>권오현</td>\n",
              "      <td>기타소득</td>\n",
              "      <td>기타소득</td>\n",
              "      <td>-</td>\n",
              "      <td>ㆍ해당사항 없음</td>\n",
              "    </tr>\n",
              "  </tbody>\n",
              "</table>\n",
              "</div>"
            ],
            "text/plain": [
              "    이름 보수의 종류  ...    총액                                          산정기준 및 방법\n",
              "0  권오현   근로소득  ...  1249  ㆍ임원처우규정(이사회 결의)에 따라 직급(회장), 위임업무의 성격, 위임업무 수행 ...\n",
              "1  권오현   근로소득  ...  3269  ㆍ설ㆍ추석상여: 각 월급여 100% 지급ㆍ목표인센티브: 부서별 목표 달성도에 따라 ...\n",
              "2  권오현   근로소득  ...     -                                           ㆍ해당사항 없음\n",
              "3  권오현   근로소득  ...   119  ㆍ복리후생: 임원처우규정(이사회 결의)에 따라 임원 의료지원ㆍ건강검진, 차량지원, ...\n",
              "4  권오현   퇴직소득  ...     -                                           ㆍ해당사항 없음\n",
              "5  권오현   기타소득  ...     -                                           ㆍ해당사항 없음\n",
              "\n",
              "[6 rows x 5 columns]"
            ]
          },
          "metadata": {
            "tags": []
          },
          "execution_count": 99
        }
      ]
    },
    {
      "cell_type": "code",
      "metadata": {
        "id": "U0owjL0RXaVt",
        "colab_type": "code",
        "colab": {
          "base_uri": "https://localhost:8080/",
          "height": 233
        },
        "outputId": "a502981a-df5d-4260-8854-f15a5a27b823"
      },
      "source": [
        "tables[11]"
      ],
      "execution_count": 100,
      "outputs": [
        {
          "output_type": "execute_result",
          "data": {
            "text/html": [
              "<div>\n",
              "<style scoped>\n",
              "    .dataframe tbody tr th:only-of-type {\n",
              "        vertical-align: middle;\n",
              "    }\n",
              "\n",
              "    .dataframe tbody tr th {\n",
              "        vertical-align: top;\n",
              "    }\n",
              "\n",
              "    .dataframe thead th {\n",
              "        text-align: right;\n",
              "    }\n",
              "</style>\n",
              "<table border=\"1\" class=\"dataframe\">\n",
              "  <thead>\n",
              "    <tr style=\"text-align: right;\">\n",
              "      <th></th>\n",
              "      <th>이름</th>\n",
              "      <th>보수의 종류</th>\n",
              "      <th>보수의 종류.1</th>\n",
              "      <th>총액</th>\n",
              "      <th>산정기준 및 방법</th>\n",
              "    </tr>\n",
              "  </thead>\n",
              "  <tbody>\n",
              "    <tr>\n",
              "      <th>0</th>\n",
              "      <td>윤부근</td>\n",
              "      <td>근로소득</td>\n",
              "      <td>급여</td>\n",
              "      <td>1037</td>\n",
              "      <td>ㆍ임원처우규정(이사회 결의)에 따라 직급(부회장), 위임업무의 성격, 위임업무 수행...</td>\n",
              "    </tr>\n",
              "    <tr>\n",
              "      <th>1</th>\n",
              "      <td>윤부근</td>\n",
              "      <td>근로소득</td>\n",
              "      <td>상여</td>\n",
              "      <td>2681</td>\n",
              "      <td>ㆍ설ㆍ추석상여: 각 월급여 100% 지급ㆍ목표인센티브: 부서별 목표 달성도에 따라 ...</td>\n",
              "    </tr>\n",
              "    <tr>\n",
              "      <th>2</th>\n",
              "      <td>윤부근</td>\n",
              "      <td>근로소득</td>\n",
              "      <td>주식매수선택권 행사이익</td>\n",
              "      <td>-</td>\n",
              "      <td>ㆍ해당사항 없음</td>\n",
              "    </tr>\n",
              "    <tr>\n",
              "      <th>3</th>\n",
              "      <td>윤부근</td>\n",
              "      <td>근로소득</td>\n",
              "      <td>기타 근로소득</td>\n",
              "      <td>125</td>\n",
              "      <td>ㆍ복리후생: 임원처우규정(이사회 결의)에 따라 임원 의료지원ㆍ건강검진, 차량지원, ...</td>\n",
              "    </tr>\n",
              "    <tr>\n",
              "      <th>4</th>\n",
              "      <td>윤부근</td>\n",
              "      <td>퇴직소득</td>\n",
              "      <td>퇴직소득</td>\n",
              "      <td>-</td>\n",
              "      <td>ㆍ해당사항 없음</td>\n",
              "    </tr>\n",
              "    <tr>\n",
              "      <th>5</th>\n",
              "      <td>윤부근</td>\n",
              "      <td>기타소득</td>\n",
              "      <td>기타소득</td>\n",
              "      <td>-</td>\n",
              "      <td>ㆍ해당사항 없음</td>\n",
              "    </tr>\n",
              "  </tbody>\n",
              "</table>\n",
              "</div>"
            ],
            "text/plain": [
              "    이름 보수의 종류  ...    총액                                          산정기준 및 방법\n",
              "0  윤부근   근로소득  ...  1037  ㆍ임원처우규정(이사회 결의)에 따라 직급(부회장), 위임업무의 성격, 위임업무 수행...\n",
              "1  윤부근   근로소득  ...  2681  ㆍ설ㆍ추석상여: 각 월급여 100% 지급ㆍ목표인센티브: 부서별 목표 달성도에 따라 ...\n",
              "2  윤부근   근로소득  ...     -                                           ㆍ해당사항 없음\n",
              "3  윤부근   근로소득  ...   125  ㆍ복리후생: 임원처우규정(이사회 결의)에 따라 임원 의료지원ㆍ건강검진, 차량지원, ...\n",
              "4  윤부근   퇴직소득  ...     -                                           ㆍ해당사항 없음\n",
              "5  윤부근   기타소득  ...     -                                           ㆍ해당사항 없음\n",
              "\n",
              "[6 rows x 5 columns]"
            ]
          },
          "metadata": {
            "tags": []
          },
          "execution_count": 100
        }
      ]
    },
    {
      "cell_type": "code",
      "metadata": {
        "id": "yE4F5LrEXbGI",
        "colab_type": "code",
        "colab": {}
      },
      "source": [
        ""
      ],
      "execution_count": 0,
      "outputs": []
    }
  ]
}